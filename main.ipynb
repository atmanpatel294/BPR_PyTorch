{
 "cells": [
  {
   "cell_type": "code",
   "execution_count": 1,
   "metadata": {
    "colab": {},
    "colab_type": "code",
    "id": "EDj0jATLv-T3"
   },
   "outputs": [],
   "source": [
    "import os\n",
    "import time\n",
    "import argparse\n",
    "import csv\n",
    "\n",
    "import torch\n",
    "import torch.nn as nn\n",
    "import torch.optim as optim\n",
    "import torch.utils.data as data\n",
    "import torch.backends.cudnn as cudnn\n",
    "\n",
    "import numpy as np \n",
    "import pandas as pd \n",
    "import scipy.sparse as sp\n",
    "import random \n",
    "from collections import defaultdict\n",
    "\n",
    "#Load Methods\n",
    "from util.metrics import metrics\n",
    "from data.load_data import load_all\n",
    "from util.bpr import sbpr,bpr"
   ]
  },
  {
   "cell_type": "code",
   "execution_count": 2,
   "metadata": {
    "colab": {
     "base_uri": "https://localhost:8080/",
     "height": 34
    },
    "colab_type": "code",
    "id": "oyMypLM-01tB",
    "outputId": "7c5c4574-04d0-483d-8696-9c3ae217fcf3"
   },
   "outputs": [
    {
     "name": "stdout",
     "output_type": "stream",
     "text": [
      "cpu\n"
     ]
    }
   ],
   "source": [
    "if torch.cuda.is_available():\n",
    "    device = torch.device(\"cuda\")\n",
    "else:\n",
    "    device = torch.device(\"cpu\")\n",
    "\n",
    "print(device)"
   ]
  },
  {
   "cell_type": "markdown",
   "metadata": {},
   "source": [
    "## Prepare Dataset"
   ]
  },
  {
   "cell_type": "code",
   "execution_count": 3,
   "metadata": {
    "colab": {},
    "colab_type": "code",
    "id": "EFzLst5sv-UC"
   },
   "outputs": [],
   "source": [
    "train_data, test_data, user_num ,item_num, top_comm, users, items = load_all()"
   ]
  },
  {
   "cell_type": "code",
   "execution_count": 4,
   "metadata": {
    "colab": {
     "base_uri": "https://localhost:8080/",
     "height": 34
    },
    "colab_type": "code",
    "id": "sL1k00QaJFY_",
    "outputId": "5e2e7adb-5c8d-4be2-ee9c-e2653495772f"
   },
   "outputs": [
    {
     "name": "stdout",
     "output_type": "stream",
     "text": [
      "1969 1969 13260 13260\n"
     ]
    }
   ],
   "source": [
    "user_items = defaultdict(list)\n",
    "item_users = defaultdict(list)\n",
    "for user,item in train_data:\n",
    "    user_items[user].append(item)\n",
    "    item_users[item].append(user)\n",
    "print(len(user_items), len(users), len(item_users), len(items))"
   ]
  },
  {
   "cell_type": "code",
   "execution_count": 5,
   "metadata": {
    "colab": {},
    "colab_type": "code",
    "id": "gKwraprEmaGx"
   },
   "outputs": [
    {
     "data": {
      "text/plain": [
       "3462"
      ]
     },
     "execution_count": 5,
     "metadata": {},
     "output_type": "execute_result"
    }
   ],
   "source": [
    "bpr_dict = defaultdict(set)\n",
    "bpr(users[1],bpr_dict,items,user_items)"
   ]
  },
  {
   "cell_type": "code",
   "execution_count": 6,
   "metadata": {
    "colab": {},
    "colab_type": "code",
    "id": "nxxYllTIiKoT"
   },
   "outputs": [
    {
     "data": {
      "text/plain": [
       "(9080, 4458)"
      ]
     },
     "execution_count": 6,
     "metadata": {},
     "output_type": "execute_result"
    }
   ],
   "source": [
    "sbpr_negative_dict = defaultdict(list)\n",
    "sbpr_friend_dict = defaultdict(list)\n",
    "user_saved_items = defaultdict(set)\n",
    "sbpr(users[1],user_saved_items,sbpr_friend_dict,sbpr_negative_dict,bpr_dict,top_comm,user_items,items)"
   ]
  },
  {
   "cell_type": "code",
   "execution_count": 7,
   "metadata": {
    "colab": {},
    "colab_type": "code",
    "id": "N08iWQPPv-T8"
   },
   "outputs": [],
   "source": [
    "## DataLoader\n",
    "class BPRDataset(data.Dataset):\n",
    "    \n",
    "    def __init__(self, features, num_item, num_ng=0, is_training=None):\n",
    "        super(BPRDataset, self).__init__()\n",
    "        \"\"\" Note that the labels are only useful when training, we thus \n",
    "            add them in the ng_sample() function.\n",
    "        \"\"\"\n",
    "        self.features = features\n",
    "        self.num_item = num_item\n",
    "#         self.train_mat = train_mat\n",
    "        self.num_ng = num_ng\n",
    "        self.is_training = is_training\n",
    "\n",
    "    def ng_sample(self):\n",
    "        from util.bpr import sbpr\n",
    "#         global user_saved_items#,sbpr_friend_dict,sbpr_negative_dict,bpr_dict,top_comm,user_items,items\n",
    "        \n",
    "        self.features_fill = []\n",
    "        for x in self.features:\n",
    "            u, i = x[0], x[1]\n",
    "            for t in range(self.num_ng):\n",
    "                j, k = sbpr(u,user_saved_items,sbpr_friend_dict,sbpr_negative_dict,bpr_dict,\n",
    "                            top_comm,user_items,items)\n",
    "\n",
    "                self.features_fill.append([u, i, j, k])\n",
    "\n",
    "    def __len__(self):\n",
    "        return self.num_ng * len(self.features)\n",
    "\n",
    "    def __getitem__(self, idx):\n",
    "        features = self.features_fill \n",
    "        user = features[idx][0]\n",
    "        item_i = features[idx][1]\n",
    "        item_j = features[idx][2]\n",
    "        item_k = features[idx][3]\n",
    "        if self.is_training:\n",
    "            return user, item_i, item_j, item_k\n",
    "        else:\n",
    "            return user, item_i, item_k"
   ]
  },
  {
   "cell_type": "code",
   "execution_count": 8,
   "metadata": {
    "colab": {},
    "colab_type": "code",
    "id": "cxiGrlB0ICy3"
   },
   "outputs": [],
   "source": [
    "\n",
    "# construct the train and test datasets\n",
    "train_dataset = BPRDataset(train_data, item_num, 10, True)\n",
    "test_dataset = BPRDataset(test_data, item_num, 100, False)\n",
    "train_loader = data.DataLoader(train_dataset, batch_size=64, shuffle=True, num_workers=4)\n",
    "test_loader = data.DataLoader(test_dataset, batch_size=64, shuffle=False, num_workers=0)"
   ]
  },
  {
   "cell_type": "code",
   "execution_count": 9,
   "metadata": {},
   "outputs": [
    {
     "name": "stdout",
     "output_type": "stream",
     "text": [
      "<class 'torch.Tensor'> <class 'torch.Tensor'> <class 'torch.Tensor'>\n",
      "torch.LongTensor torch.LongTensor torch.LongTensor\n"
     ]
    }
   ],
   "source": [
    "train_loader.dataset.ng_sample()\n",
    "test_loader.dataset.ng_sample()\n",
    "for user, item_i, item_j in test_loader:\n",
    "    # print(user,item_i,item_j)#, item_k)\n",
    "    print(type(user),type(item_i),type(item_j)) #,type(item_k))\n",
    "    print(user.type(), item_i.type(), item_j.type()) #, item_k.type())\n",
    "    tmp = 1\n",
    "    if tmp==1:\n",
    "        break\n",
    "    # test_data"
   ]
  },
  {
   "cell_type": "markdown",
   "metadata": {},
   "source": [
    "## Model"
   ]
  },
  {
   "cell_type": "code",
   "execution_count": 10,
   "metadata": {
    "colab": {},
    "colab_type": "code",
    "id": "I5K7j_HJv-T-"
   },
   "outputs": [],
   "source": [
    "# model\n",
    "class BPR(nn.Module):\n",
    "    def __init__(self, user_num, item_num, factor_num):\n",
    "        super(BPR, self).__init__()\n",
    "        \"\"\"\n",
    "        user_num: number of users;\n",
    "        item_num: number of items;\n",
    "        factor_num: number of predictive factors.\n",
    "        \"\"\"\t\t\n",
    "        self.embed_user = nn.Embedding(user_num, factor_num)\n",
    "        self.embed_item = nn.Embedding(item_num, factor_num)\n",
    "\n",
    "        nn.init.normal_(self.embed_user.weight, std=0.01)\n",
    "        nn.init.normal_(self.embed_item.weight, std=0.01)\n",
    "\n",
    "    def forward(self, user, item_i, item_j, item_k):\n",
    "        \n",
    "        item_i = item_i.to(device)\n",
    "        item_j = item_j.to(device)\n",
    "        item_k = item_k.to(device)\n",
    "\n",
    "        user = self.embed_user(user)\n",
    "        item_i = self.embed_item(item_i)\n",
    "        item_j = self.embed_item(item_j)\n",
    "        item_k = self.embed_item(item_k)\n",
    "\n",
    "        prediction_i = (user * item_i).sum(dim=-1)\n",
    "        prediction_j = (user * item_j).sum(dim=-1)\n",
    "        prediction_k = (user * item_k).sum(dim=-1)\n",
    "        return prediction_i, prediction_j, prediction_k\n"
   ]
  },
  {
   "cell_type": "code",
   "execution_count": 11,
   "metadata": {
    "colab": {
     "base_uri": "https://localhost:8080/",
     "height": 85
    },
    "colab_type": "code",
    "id": "xGN5YQ0nv-UE",
    "outputId": "bb38154f-c941-4e7a-bf36-ff472f3667cc"
   },
   "outputs": [
    {
     "data": {
      "text/plain": [
       "BPR(\n",
       "  (embed_user): Embedding(2020, 8)\n",
       "  (embed_item): Embedding(13303, 8)\n",
       ")"
      ]
     },
     "execution_count": 11,
     "metadata": {},
     "output_type": "execute_result"
    }
   ],
   "source": [
    "model = BPR(user_num, item_num, 8)\n",
    "model.to(device)"
   ]
  },
  {
   "cell_type": "code",
   "execution_count": 12,
   "metadata": {},
   "outputs": [],
   "source": [
    "optimizer = optim.Adam(model.parameters(), lr=0.0001)"
   ]
  },
  {
   "cell_type": "code",
   "execution_count": 13,
   "metadata": {
    "colab": {
     "base_uri": "https://localhost:8080/",
     "height": 1000
    },
    "colab_type": "code",
    "id": "ehjcyM-dv-UG",
    "outputId": "e54a2d4f-2f8d-4a77-a689-2bcaa7b77892"
   },
   "outputs": [
    {
     "name": "stdout",
     "output_type": "stream",
     "text": [
      "The time elapse of epoch 000 is: 00: 00: 45\n",
      "accuracy : 0.720147720867901\n",
      "The time elapse of epoch 001 is: 00: 00: 44\n",
      "accuracy : 0.7394011183287513\n",
      "The time elapse of epoch 002 is: 00: 00: 43\n",
      "accuracy : 0.7499389871177287\n",
      "The time elapse of epoch 003 is: 00: 00: 43\n",
      "accuracy : 0.7585503567257864\n",
      "The time elapse of epoch 004 is: 00: 00: 44\n",
      "accuracy : 0.7664050525509087\n"
     ]
    }
   ],
   "source": [
    "########################### TRAINING #####################################\n",
    "for epoch in range(5):\n",
    "    model.train() \n",
    "    start_time = time.time()\n",
    "    train_loader.dataset.ng_sample()\n",
    "    \n",
    "\n",
    "    for user, item_i, item_j, item_k in train_loader:\n",
    "\n",
    "        user = user.to(device)\n",
    "        item_i = item_i.to(device)\n",
    "        item_j = item_j.to(device)\n",
    "        item_k = item_k.to(device)\n",
    "\n",
    "        model.zero_grad()\n",
    "        prediction_i, prediction_j, prediction_k = model(user, item_i, item_j, item_k)\n",
    "        loss = - (prediction_i - prediction_j).sigmoid().log().sum()\n",
    "        loss -= (prediction_j - prediction_k).sigmoid().log().sum()\n",
    "        loss.backward()\n",
    "        optimizer.step()\n",
    "\n",
    "    model.eval()\n",
    "    test_loader.dataset.ng_sample()\n",
    "    accuracy= metrics(model, test_loader, device)\n",
    "\n",
    "    elapsed_time = time.time() - start_time\n",
    "    print(\"The time elapse of epoch {:03d}\".format(epoch) + \" is: \" + \n",
    "            time.strftime(\"%H: %M: %S\", time.gmtime(elapsed_time)))\n",
    "    print(\"accuracy : {}\".format(accuracy))\n"
   ]
  }
 ],
 "metadata": {
  "accelerator": "GPU",
  "colab": {
   "collapsed_sections": [],
   "name": "CBPR_PyTorch.ipynb",
   "provenance": []
  },
  "kernelspec": {
   "display_name": "Python (ds)",
   "language": "python",
   "name": "ds"
  },
  "language_info": {
   "codemirror_mode": {
    "name": "ipython",
    "version": 3
   },
   "file_extension": ".py",
   "mimetype": "text/x-python",
   "name": "python",
   "nbconvert_exporter": "python",
   "pygments_lexer": "ipython3",
   "version": "3.7.4"
  }
 },
 "nbformat": 4,
 "nbformat_minor": 1
}
