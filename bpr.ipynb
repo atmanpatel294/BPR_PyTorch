{
  "nbformat": 4,
  "nbformat_minor": 0,
  "metadata": {
    "kernelspec": {
      "name": "python3",
      "display_name": "Python 3"
    },
    "colab": {
      "name": "CBPR_PyTorch.ipynb",
      "provenance": [],
      "collapsed_sections": []
    },
    "accelerator": "GPU"
  },
  "cells": [
    {
      "cell_type": "code",
      "metadata": {
        "id": "EDj0jATLv-T3",
        "colab_type": "code",
        "colab": {}
      },
      "source": [
        "import os\n",
        "import time\n",
        "import argparse\n",
        "import csv\n",
        "\n",
        "import torch\n",
        "import torch.nn as nn\n",
        "import torch.optim as optim\n",
        "import torch.utils.data as data\n",
        "import torch.backends.cudnn as cudnn\n",
        "\n",
        "import numpy as np \n",
        "import pandas as pd \n",
        "import scipy.sparse as sp\n",
        "\n",
        "import torch.utils.data as data\n",
        "\n",
        "import pandas as pd\n",
        "from collections import defaultdict"
      ],
      "execution_count": 0,
      "outputs": []
    },
    {
      "cell_type": "code",
      "metadata": {
        "id": "oyMypLM-01tB",
        "colab_type": "code",
        "outputId": "7c5c4574-04d0-483d-8696-9c3ae217fcf3",
        "colab": {
          "base_uri": "https://localhost:8080/",
          "height": 34
        }
      },
      "source": [
        "torch.cuda.current_device()\n",
        "torch.cuda.is_available()"
      ],
      "execution_count": 0,
      "outputs": [
        {
          "output_type": "execute_result",
          "data": {
            "text/plain": [
              "True"
            ]
          },
          "metadata": {
            "tags": []
          },
          "execution_count": 3
        }
      ]
    },
    {
      "cell_type": "code",
      "metadata": {
        "id": "hvHWF18Xv-T6",
        "colab_type": "code",
        "colab": {}
      },
      "source": [
        "def load_all(test_num=50):\n",
        "    \"\"\" We load all the three file here to save time in each epoch. \"\"\"\n",
        "    train_data = pd.read_csv(\"train.csv\", \n",
        "        sep=',', header=None, names=['user', 'item'], \n",
        "        usecols=[0, 1], dtype={0: np.int32, 1: np.int32})\n",
        "\n",
        "    user_num = train_data['user'].max() + 1\n",
        "    item_num = train_data['item'].max() + 1\n",
        "\n",
        "    users = np.unique(train_data.user)\n",
        "    items = np.unique(train_data.item)\n",
        "\n",
        "    train_data = train_data.values.tolist()\n",
        "\n",
        "    # load ratings as a dok matrix\n",
        "    train_mat = sp.dok_matrix((user_num, item_num), dtype=np.float32)\n",
        "    for x in train_data:\n",
        "        train_mat[x[0], x[1]] = 1.0\n",
        "\n",
        "    # load the comunity\n",
        "    comm_data = {}\n",
        "    with open('top_comm.csv', newline='') as csvfile:\n",
        "        read = csv.reader(csvfile, delimiter=',')\n",
        "        for row in read:\n",
        "            comm_data[int(row[0])] = [int(r) for r in row[1:]]\n",
        "    \n",
        "\n",
        "    test_data = []\n",
        "    test_df = pd.read_csv(\"test.csv\", header=None)\n",
        "    for index, row in test_df.iterrows():\n",
        "      # for negs in row[2:50]:\n",
        "      test_data.append([int(row[0]), int(row[1])]) #, int(row[])])\n",
        "\n",
        "    return train_data, test_data, user_num, item_num, train_mat, comm_data, users, items"
      ],
      "execution_count": 0,
      "outputs": []
    },
    {
      "cell_type": "code",
      "metadata": {
        "id": "EFzLst5sv-UC",
        "colab_type": "code",
        "colab": {}
      },
      "source": [
        "############################## PREPARE DATASET ##########################\n",
        "train_data, test_data, user_num ,item_num, train_mat, top_comm, users, items = load_all()\n"
      ],
      "execution_count": 0,
      "outputs": []
    },
    {
      "cell_type": "code",
      "metadata": {
        "id": "sL1k00QaJFY_",
        "colab_type": "code",
        "outputId": "5e2e7adb-5c8d-4be2-ee9c-e2653495772f",
        "colab": {
          "base_uri": "https://localhost:8080/",
          "height": 34
        }
      },
      "source": [
        "user_items = defaultdict(list)\n",
        "item_users = defaultdict(list)\n",
        "for user,item in train_data:\n",
        "  user_items[user].append(item)\n",
        "  item_users[item].append(user)\n",
        "print(len(user_items), len(users), len(item_users), len(items))"
      ],
      "execution_count": 0,
      "outputs": [
        {
          "output_type": "stream",
          "text": [
            "4557 4557 2219 2219\n"
          ],
          "name": "stdout"
        }
      ]
    },
    {
      "cell_type": "code",
      "metadata": {
        "id": "gKwraprEmaGx",
        "colab_type": "code",
        "colab": {}
      },
      "source": [
        "import random \n",
        "bpr_dict = defaultdict(set)\n",
        "def bpr(user):\n",
        "    unseen_items = None\n",
        "    if bpr_dict[user]==set():\n",
        "        unseen_items = set(items).difference(user_items[user])\n",
        "        bpr_dict[user] = unseen_items\n",
        "    else:\n",
        "        unseen_items = bpr_dict[user]\n",
        "    return int(random.choice(list(unseen_items)))"
      ],
      "execution_count": 0,
      "outputs": []
    },
    {
      "cell_type": "code",
      "metadata": {
        "id": "nxxYllTIiKoT",
        "colab_type": "code",
        "colab": {}
      },
      "source": [
        "# sbpr_friend_dict = defaultdict(list)  ## I already have this  \n",
        "\n",
        "sbpr_negative_dict = defaultdict(list)\n",
        "sbpr_friend_dict = defaultdict(list)\n",
        "# if 'top_comm' in globals():\n",
        "#   print(\"yes\")\n",
        "#   sbpr_friend_dict = top_comm\n",
        "# else:\n",
        "#   print(\"no\")\n",
        "  \n",
        "\n",
        "user_saved_items = defaultdict(set)\n",
        "def sbpr(user):\n",
        "    if user not in top_comm:\n",
        "        bpr_item = bpr(user)\n",
        "        return (bpr_item,bpr_item)\n",
        "    \n",
        "    random_friend_item = None\n",
        "    similar_interests = None\n",
        "    \n",
        "    # friends = list(g.adj[user])\n",
        "    friends = top_comm[user]\n",
        "\n",
        "    friend_items = set()\n",
        "    similar_interests = 1\n",
        "    if user_saved_items[user] == set():\n",
        "      if sbpr_friend_dict[user] == list():\n",
        "          for friend in friends:\n",
        "              friend_items = friend_items.union(user_items[friend])\n",
        "          friends_items = list(friend_items.difference(user_items[user]))\n",
        "          sbpr_friend_dict[user] = friends_items\n",
        "      else:\n",
        "          friends_items = sbpr_friend_dict[user]\n",
        "          # sbpr_friend_dict[user]= friends_items\n",
        "    else:\n",
        "      friends_items = user_saved_items[user]\n",
        "    if friends_items:\n",
        "      random_friend_item = int(random.choice(friends_items))\n",
        "    else:\n",
        "      bpr_item = bpr(user)\n",
        "      return ([bpr_item,bpr_item])\n",
        "    # if sbpr_weight[(user,random_friend_item)]!=0:\n",
        "    #   similar_interests = sbpr_weight[(user,random_friend_item)]\n",
        "    # else:\n",
        "    #   for friend in friends:\n",
        "    #     if random_friend_item in user_items[friend]:\n",
        "    #         similar_interests+=1\n",
        "    # random_friend_item = item_to_index[random_friend_item]\n",
        "   \n",
        "    if sbpr_negative_dict[user] == list(): # check this\n",
        "        unseen_items = list(set(items).difference(friend_items.union(user_items[user])))\n",
        "        sbpr_negative_dict[user] = unseen_items\n",
        "    else:\n",
        "        unseen_items = sbpr_negative_dict[user]\n",
        "    random_item = int(random.choice(unseen_items))\n",
        "    return (random_friend_item,int(random_item))"
      ],
      "execution_count": 0,
      "outputs": []
    },
    {
      "cell_type": "code",
      "metadata": {
        "id": "GPRwXaXLmnzB",
        "colab_type": "code",
        "outputId": "e33d1422-94a3-4889-e704-719561b8df9a",
        "colab": {
          "base_uri": "https://localhost:8080/",
          "height": 34
        }
      },
      "source": [
        "# for i in range(3000):\n",
        "#   if i in sbpr_friend_dict.keys():\n",
        "#     continue\n",
        "#   else:\n",
        "#     print(i)\n",
        "\n",
        "type(sbpr(users[1])[0]), type(sbpr(users[1])[1])"
      ],
      "execution_count": 0,
      "outputs": [
        {
          "output_type": "execute_result",
          "data": {
            "text/plain": [
              "(int, int)"
            ]
          },
          "metadata": {
            "tags": []
          },
          "execution_count": 9
        }
      ]
    },
    {
      "cell_type": "code",
      "metadata": {
        "id": "N08iWQPPv-T8",
        "colab_type": "code",
        "colab": {}
      },
      "source": [
        "## DataLoader\n",
        "\n",
        "class BPRData(data.Dataset):\n",
        "    def __init__(self, features, num_item, train_mat=None, num_ng=0, is_training=None):\n",
        "        super(BPRData, self).__init__()\n",
        "        \"\"\" Note that the labels are only useful when training, we thus \n",
        "            add them in the ng_sample() function.\n",
        "        \"\"\"\n",
        "        self.features = features\n",
        "        self.num_item = num_item\n",
        "        self.train_mat = train_mat\n",
        "        self.num_ng = num_ng\n",
        "        self.is_training = is_training\n",
        "\n",
        "    def ng_sample(self):\n",
        "        # assert self.is_training, 'no need to sampling when testing'\n",
        "        self.features_fill = []\n",
        "        for x in self.features:\n",
        "            u, i = x[0], x[1]\n",
        "            for t in range(self.num_ng):\n",
        "                j, k = sbpr(u)\n",
        "                # j = np.random.randint(self.num_item)\n",
        "                # while (u, j) in self.train_mat:\n",
        "                #     j = np.random.randint(self.num_item)\n",
        "                self.features_fill.append([u, i, j, k])\n",
        "\n",
        "    def __len__(self):\n",
        "        return self.num_ng * len(self.features) #if \\\n",
        "                #self.is_training else len(self.features)\n",
        "\n",
        "    def __getitem__(self, idx):\n",
        "        features = self.features_fill #if self.is_training else self.features\n",
        "        # if idx==0:\n",
        "        #   print(features[idx])\n",
        "        user = features[idx][0]\n",
        "        item_i = features[idx][1]\n",
        "        item_j = features[idx][2] #this is the community/sbpr term\n",
        "        item_k = features[idx][3]#.type(torch.LongTensor)\n",
        "        if self.is_training:\n",
        "          return user, item_i, item_j, item_k\n",
        "        else:\n",
        "          return user, item_i, item_k"
      ],
      "execution_count": 0,
      "outputs": []
    },
    {
      "cell_type": "code",
      "metadata": {
        "id": "I5K7j_HJv-T-",
        "colab_type": "code",
        "colab": {}
      },
      "source": [
        "import torch\n",
        "import torch.nn as nn\n",
        "\n",
        "# model\n",
        "class BPR(nn.Module):\n",
        "    def __init__(self, user_num, item_num, factor_num):\n",
        "        super(BPR, self).__init__()\n",
        "        \"\"\"\n",
        "        user_num: number of users;\n",
        "        item_num: number of items;\n",
        "        factor_num: number of predictive factors.\n",
        "        \"\"\"\t\t\n",
        "        self.embed_user = nn.Embedding(user_num, factor_num)\n",
        "        self.embed_item = nn.Embedding(item_num, factor_num)\n",
        "\n",
        "        nn.init.normal_(self.embed_user.weight, std=0.01)\n",
        "        nn.init.normal_(self.embed_item.weight, std=0.01)\n",
        "\n",
        "    def forward(self, user, item_i, item_j, item_k):\n",
        "        # item_i = item_i.type(torch.LongTensor)\n",
        "        # item_j = item_j.type(torch.LongTensor)\n",
        "        # item_k = item_k.type(torch.LongTensor)\n",
        "        item_i = item_i.cuda()\n",
        "        item_j = item_j.cuda()\n",
        "        item_k = item_k.cuda()\n",
        "\n",
        "\n",
        "        user = self.embed_user(user)\n",
        "        item_i = self.embed_item(item_i)\n",
        "        item_j = self.embed_item(item_j)\n",
        "        item_k = self.embed_item(item_k)\n",
        "\n",
        "        prediction_i = (user * item_i).sum(dim=-1)\n",
        "        prediction_j = (user * item_j).sum(dim=-1)\n",
        "        prediction_k = (user * item_k).sum(dim=-1)\n",
        "        return prediction_i, prediction_j, prediction_k\n"
      ],
      "execution_count": 0,
      "outputs": []
    },
    {
      "cell_type": "code",
      "metadata": {
        "id": "cBpnp6dCv-UA",
        "colab_type": "code",
        "colab": {}
      },
      "source": [
        "import numpy as np\n",
        "import torch\n",
        "\n",
        "\n",
        "def hit(gt_item, pred_items):\n",
        "    if gt_item in pred_items:\n",
        "        return 1\n",
        "    return 0\n",
        "\n",
        "\n",
        "def ndcg(gt_item, pred_items):\n",
        "    if gt_item in pred_items:\n",
        "        index = pred_items.index(gt_item)\n",
        "        return np.reciprocal(np.log2(index+2))\n",
        "    return 0\n",
        "\n",
        "\n",
        "def metrics(model, test_loader):\n",
        "    accuracy, auc = [], []\n",
        "    tmp_auc = defaultdict(list)\n",
        "    for user, item_i, item_j in test_loader:\n",
        "        user = user.cuda()\n",
        "        item_i = item_i.cuda()\n",
        "        item_j = item_j.cuda()\n",
        "        prediction_i, prediction_j, prediction_j = model(user.cuda(), item_i.cuda(), item_j.cuda(), item_j.cuda())\n",
        "        # print(prediction_i)\n",
        "        # print(prediction_j)\n",
        "        count = 0\n",
        "        pred = prediction_i > prediction_j\n",
        "        pred = [int(p) for p in pred]\n",
        "        accuracy.append(sum(pred)/len(pred))\n",
        "    return np.mean(accuracy)"
      ],
      "execution_count": 0,
      "outputs": []
    },
    {
      "cell_type": "code",
      "metadata": {
        "id": "cxiGrlB0ICy3",
        "colab_type": "code",
        "colab": {}
      },
      "source": [
        "\n",
        "# construct the train and test datasets\n",
        "train_dataset = BPRData(train_data, item_num, train_mat, 1, True)\n",
        "test_dataset = BPRData(test_data, item_num, train_mat, 100, False)\n",
        "train_loader = data.DataLoader(train_dataset, batch_size=64, shuffle=True, num_workers=4)\n",
        "test_loader = data.DataLoader(test_dataset, batch_size=64, shuffle=False, num_workers=0)"
      ],
      "execution_count": 0,
      "outputs": []
    },
    {
      "cell_type": "code",
      "metadata": {
        "id": "ksWjGV-w_j8p",
        "colab_type": "code",
        "outputId": "e2bb5548-3389-4d5d-939d-51f88d3d6f9b",
        "colab": {
          "base_uri": "https://localhost:8080/",
          "height": 51
        }
      },
      "source": [
        "tmp = 0\n",
        "train_loader.dataset.ng_sample()\n",
        "test_loader.dataset.ng_sample()\n",
        "for user, item_i, item_j in test_loader:\n",
        "  # print(user,item_i,item_j)#, item_k)\n",
        "  print(type(user),type(item_i),type(item_j)) #,type(item_k))\n",
        "  print(user.type(), item_i.type(), item_j.type()) #, item_k.type())\n",
        "  tmp += 1\n",
        "  if tmp==1:\n",
        "    break\n",
        "# test_data"
      ],
      "execution_count": 0,
      "outputs": [
        {
          "output_type": "stream",
          "text": [
            "<class 'torch.Tensor'> <class 'torch.Tensor'> <class 'torch.Tensor'>\n",
            "torch.LongTensor torch.LongTensor torch.LongTensor\n"
          ],
          "name": "stdout"
        }
      ]
    },
    {
      "cell_type": "code",
      "metadata": {
        "id": "vBAsDL2wh9OG",
        "colab_type": "code",
        "colab": {}
      },
      "source": [
        "# top_comm[1]"
      ],
      "execution_count": 0,
      "outputs": []
    },
    {
      "cell_type": "code",
      "metadata": {
        "id": "xGN5YQ0nv-UE",
        "colab_type": "code",
        "outputId": "bb38154f-c941-4e7a-bf36-ff472f3667cc",
        "colab": {
          "base_uri": "https://localhost:8080/",
          "height": 85
        }
      },
      "source": [
        "########################### CREATE MODEL #################################\n",
        "model = BPR(user_num, item_num, 8)\n",
        "model.cuda()"
      ],
      "execution_count": 0,
      "outputs": [
        {
          "output_type": "execute_result",
          "data": {
            "text/plain": [
              "BPR(\n",
              "  (embed_user): Embedding(4798, 8)\n",
              "  (embed_item): Embedding(2393, 8)\n",
              ")"
            ]
          },
          "metadata": {
            "tags": []
          },
          "execution_count": 14
        }
      ]
    },
    {
      "cell_type": "code",
      "metadata": {
        "id": "QOShTzn9s__Y",
        "colab_type": "code",
        "colab": {}
      },
      "source": [
        "optimizer = optim.Adam(model.parameters(), lr=0.001)"
      ],
      "execution_count": 0,
      "outputs": []
    },
    {
      "cell_type": "code",
      "metadata": {
        "id": "ehjcyM-dv-UG",
        "colab_type": "code",
        "outputId": "e54a2d4f-2f8d-4a77-a689-2bcaa7b77892",
        "colab": {
          "base_uri": "https://localhost:8080/",
          "height": 1000
        }
      },
      "source": [
        "########################### TRAINING #####################################\n",
        "for epoch in range(100):\n",
        "    model.train() \n",
        "    start_time = time.time()\n",
        "    train_loader.dataset.ng_sample()\n",
        "    \n",
        "\n",
        "    for user, item_i, item_j, item_k in train_loader:\n",
        "        # user = torch.tensor(user).to(torch.int64)\n",
        "        # item_i = torch.tensor(item_i).to(torch.int64)\n",
        "        # item_j = torch.tensor(item_j).to(torch.int64)\n",
        "        # item_k = torch.tensor(item_k).to(torch.int64)\n",
        "\n",
        "        user = user.cuda()\n",
        "        item_i = item_i.cuda()\n",
        "        item_j = item_j.cuda()\n",
        "        item_k = item_k.cuda()\n",
        "\n",
        "        model.zero_grad()\n",
        "        prediction_i, prediction_j, prediction_k = model(user, item_i, item_j, item_k)\n",
        "        loss = - (prediction_i - prediction_j).sigmoid().log().sum()\n",
        "        loss -= (prediction_j - prediction_k).sigmoid().log().sum()\n",
        "        loss.backward()\n",
        "        optimizer.step()\n",
        "\n",
        "    model.eval()\n",
        "    test_loader.dataset.ng_sample()\n",
        "    accuracy= metrics(model, test_loader)\n",
        "\n",
        "    elapsed_time = time.time() - start_time\n",
        "    print(\"The time elapse of epoch {:03d}\".format(epoch) + \" is: \" + \n",
        "            time.strftime(\"%H: %M: %S\", time.gmtime(elapsed_time)))\n",
        "    print(\"accuracy : {}\".format(accuracy))\n"
      ],
      "execution_count": 0,
      "outputs": [
        {
          "output_type": "stream",
          "text": [
            "The time elapse of epoch 000 is: 00: 00: 51\n",
            "accuracy : 0.9184455202647777\n",
            "The time elapse of epoch 001 is: 00: 00: 48\n",
            "accuracy : 0.9274864635350134\n",
            "The time elapse of epoch 002 is: 00: 00: 48\n",
            "accuracy : 0.9304686592730229\n",
            "The time elapse of epoch 003 is: 00: 00: 48\n",
            "accuracy : 0.9302590799558704\n",
            "The time elapse of epoch 004 is: 00: 00: 48\n",
            "accuracy : 0.9317007316223435\n",
            "The time elapse of epoch 005 is: 00: 00: 48\n",
            "accuracy : 0.933131496051562\n",
            "The time elapse of epoch 006 is: 00: 00: 48\n",
            "accuracy : 0.9339952168737661\n",
            "The time elapse of epoch 007 is: 00: 00: 48\n",
            "accuracy : 0.9349587373708048\n",
            "The time elapse of epoch 008 is: 00: 00: 48\n",
            "accuracy : 0.9358170145743816\n",
            "The time elapse of epoch 009 is: 00: 00: 48\n",
            "accuracy : 0.9369148109975612\n",
            "The time elapse of epoch 010 is: 00: 00: 48\n",
            "accuracy : 0.9373648168040878\n",
            "The time elapse of epoch 011 is: 00: 00: 48\n",
            "accuracy : 0.9387719922192544\n",
            "The time elapse of epoch 012 is: 00: 00: 48\n",
            "accuracy : 0.9389235062710487\n",
            "The time elapse of epoch 013 is: 00: 00: 48\n",
            "accuracy : 0.9391167547323191\n",
            "The time elapse of epoch 014 is: 00: 00: 48\n",
            "accuracy : 0.939552244222506\n",
            "The time elapse of epoch 015 is: 00: 00: 48\n",
            "accuracy : 0.94021545842527\n",
            "The time elapse of epoch 016 is: 00: 00: 48\n",
            "accuracy : 0.9414838215654395\n",
            "The time elapse of epoch 017 is: 00: 00: 48\n",
            "accuracy : 0.941945621878992\n",
            "The time elapse of epoch 018 is: 00: 00: 48\n",
            "accuracy : 0.9416289847288352\n",
            "The time elapse of epoch 019 is: 00: 00: 48\n",
            "accuracy : 0.9420644742190222\n",
            "The time elapse of epoch 020 is: 00: 00: 48\n",
            "accuracy : 0.942861964347927\n",
            "The time elapse of epoch 021 is: 00: 00: 48\n",
            "accuracy : 0.9429817239577285\n",
            "The time elapse of epoch 022 is: 00: 00: 47\n",
            "accuracy : 0.9442147035768204\n",
            "The time elapse of epoch 023 is: 00: 00: 48\n",
            "accuracy : 0.9446184386250145\n",
            "The time elapse of epoch 024 is: 00: 00: 48\n",
            "accuracy : 0.9450747953199397\n",
            "The time elapse of epoch 025 is: 00: 00: 47\n",
            "accuracy : 0.9452489911160143\n",
            "The time elapse of epoch 026 is: 00: 00: 48\n",
            "accuracy : 0.9462134188828243\n",
            "The time elapse of epoch 027 is: 00: 00: 47\n",
            "accuracy : 0.945780651201951\n",
            "The time elapse of epoch 028 is: 00: 00: 47\n",
            "accuracy : 0.9465654395540588\n",
            "The time elapse of epoch 029 is: 00: 00: 48\n",
            "accuracy : 0.9467831842991522\n",
            "The time elapse of epoch 030 is: 00: 00: 48\n",
            "accuracy : 0.9475661581117175\n",
            "The time elapse of epoch 031 is: 00: 00: 48\n",
            "accuracy : 0.9478111209499478\n",
            "The time elapse of epoch 032 is: 00: 00: 48\n",
            "accuracy : 0.9479617277319707\n",
            "The time elapse of epoch 033 is: 00: 00: 48\n",
            "accuracy : 0.9483790718267332\n",
            "The time elapse of epoch 034 is: 00: 00: 48\n",
            "accuracy : 0.948744701544536\n",
            "The time elapse of epoch 035 is: 00: 00: 48\n",
            "accuracy : 0.9491702110672395\n",
            "The time elapse of epoch 036 is: 00: 00: 48\n",
            "accuracy : 0.9494632592033445\n",
            "The time elapse of epoch 037 is: 00: 00: 48\n",
            "accuracy : 0.9495939060504006\n",
            "The time elapse of epoch 038 is: 00: 00: 48\n",
            "accuracy : 0.9494941063755661\n",
            "The time elapse of epoch 039 is: 00: 00: 48\n",
            "accuracy : 0.9500375609685286\n",
            "The time elapse of epoch 040 is: 00: 00: 48\n",
            "accuracy : 0.9501872604807804\n",
            "The time elapse of epoch 041 is: 00: 00: 48\n",
            "accuracy : 0.950250769364766\n",
            "The time elapse of epoch 042 is: 00: 00: 48\n",
            "accuracy : 0.9503514763093718\n",
            "The time elapse of epoch 043 is: 00: 00: 49\n",
            "accuracy : 0.9508305147485774\n",
            "The time elapse of epoch 044 is: 00: 00: 48\n",
            "accuracy : 0.9511208410753688\n",
            "The time elapse of epoch 045 is: 00: 00: 48\n",
            "accuracy : 0.9511308210428522\n",
            "The time elapse of epoch 046 is: 00: 00: 48\n",
            "accuracy : 0.9512188262106608\n",
            "The time elapse of epoch 047 is: 00: 00: 48\n",
            "accuracy : 0.9512387861456277\n",
            "The time elapse of epoch 048 is: 00: 00: 48\n",
            "accuracy : 0.9509765851817443\n",
            "The time elapse of epoch 049 is: 00: 00: 49\n",
            "accuracy : 0.9514447363836953\n",
            "The time elapse of epoch 050 is: 00: 00: 49\n",
            "accuracy : 0.9517114736964348\n",
            "The time elapse of epoch 051 is: 00: 00: 48\n",
            "accuracy : 0.9517967570549297\n",
            "The time elapse of epoch 052 is: 00: 00: 49\n",
            "accuracy : 0.9518276042271513\n",
            "The time elapse of epoch 053 is: 00: 00: 49\n",
            "accuracy : 0.9521260959818837\n",
            "The time elapse of epoch 054 is: 00: 00: 49\n",
            "accuracy : 0.9520299253861341\n",
            "The time elapse of epoch 055 is: 00: 00: 50\n",
            "accuracy : 0.9522385974335152\n",
            "The time elapse of epoch 056 is: 00: 00: 49\n",
            "accuracy : 0.9520907124608059\n",
            "The time elapse of epoch 057 is: 00: 00: 49\n",
            "accuracy : 0.9521333541400534\n",
            "The time elapse of epoch 058 is: 00: 00: 49\n",
            "accuracy : 0.9521288177911973\n",
            "The time elapse of epoch 059 is: 00: 00: 48\n",
            "accuracy : 0.9521460559168505\n",
            "The time elapse of epoch 060 is: 00: 00: 48\n",
            "accuracy : 0.9525316455696202\n",
            "The time elapse of epoch 061 is: 00: 00: 48\n",
            "accuracy : 0.9526051344210893\n",
            "The time elapse of epoch 062 is: 00: 00: 48\n",
            "accuracy : 0.9527802374869353\n",
            "The time elapse of epoch 063 is: 00: 00: 48\n",
            "accuracy : 0.9528954607478806\n",
            "The time elapse of epoch 064 is: 00: 00: 47\n",
            "accuracy : 0.9528201573568691\n",
            "The time elapse of epoch 065 is: 00: 00: 48\n",
            "accuracy : 0.9529054407153641\n",
            "The time elapse of epoch 066 is: 00: 00: 47\n",
            "accuracy : 0.9532384087214029\n",
            "The time elapse of epoch 067 is: 00: 00: 48\n",
            "accuracy : 0.9532556468470561\n",
            "The time elapse of epoch 068 is: 00: 00: 48\n",
            "accuracy : 0.9534162335965626\n",
            "The time elapse of epoch 069 is: 00: 00: 48\n",
            "accuracy : 0.9532565541168273\n",
            "The time elapse of epoch 070 is: 00: 00: 47\n",
            "accuracy : 0.9533128048426431\n",
            "The time elapse of epoch 071 is: 00: 00: 48\n",
            "accuracy : 0.9534824642898618\n",
            "The time elapse of epoch 072 is: 00: 00: 47\n",
            "accuracy : 0.9535840785042388\n",
            "The time elapse of epoch 073 is: 00: 00: 47\n",
            "accuracy : 0.953845372198351\n",
            "The time elapse of epoch 074 is: 00: 00: 48\n",
            "accuracy : 0.9537346852862617\n",
            "The time elapse of epoch 075 is: 00: 00: 47\n",
            "accuracy : 0.9539206755893624\n",
            "The time elapse of epoch 076 is: 00: 00: 47\n",
            "accuracy : 0.9535877075833237\n",
            "The time elapse of epoch 077 is: 00: 00: 47\n",
            "accuracy : 0.9539297482870747\n",
            "The time elapse of epoch 078 is: 00: 00: 47\n",
            "accuracy : 0.9540622096736732\n",
            "The time elapse of epoch 079 is: 00: 00: 47\n",
            "accuracy : 0.9540331770409941\n",
            "The time elapse of epoch 080 is: 00: 00: 47\n",
            "accuracy : 0.9539542445708977\n",
            "The time elapse of epoch 081 is: 00: 00: 48\n",
            "accuracy : 0.9538000087097898\n",
            "The time elapse of epoch 082 is: 00: 00: 49\n",
            "accuracy : 0.9539642245383811\n",
            "The time elapse of epoch 083 is: 00: 00: 48\n",
            "accuracy : 0.9540313625014516\n",
            "The time elapse of epoch 084 is: 00: 00: 48\n",
            "accuracy : 0.9540594878643596\n",
            "The time elapse of epoch 085 is: 00: 00: 48\n",
            "accuracy : 0.954183783823017\n",
            "The time elapse of epoch 086 is: 00: 00: 48\n",
            "accuracy : 0.9541057586226919\n",
            "The time elapse of epoch 087 is: 00: 00: 48\n",
            "accuracy : 0.953935191905702\n",
            "The time elapse of epoch 088 is: 00: 00: 49\n",
            "accuracy : 0.9542745108001394\n",
            "The time elapse of epoch 089 is: 00: 00: 49\n",
            "accuracy : 0.9542110019161537\n",
            "The time elapse of epoch 090 is: 00: 00: 49\n",
            "accuracy : 0.9542400345488329\n",
            "The time elapse of epoch 091 is: 00: 00: 49\n",
            "accuracy : 0.9543861049819997\n",
            "The time elapse of epoch 092 is: 00: 00: 49\n",
            "accuracy : 0.9543289469864127\n",
            "The time elapse of epoch 093 is: 00: 00: 49\n",
            "accuracy : 0.9546256242016026\n",
            "The time elapse of epoch 094 is: 00: 00: 49\n",
            "accuracy : 0.954545784461735\n",
            "The time elapse of epoch 095 is: 00: 00: 49\n",
            "accuracy : 0.9542872125769365\n",
            "The time elapse of epoch 096 is: 00: 00: 49\n",
            "accuracy : 0.9546265314713738\n",
            "The time elapse of epoch 097 is: 00: 00: 49\n",
            "accuracy : 0.954537619033794\n",
            "The time elapse of epoch 098 is: 00: 00: 49\n",
            "accuracy : 0.9543552578097781\n",
            "The time elapse of epoch 099 is: 00: 00: 49\n",
            "accuracy : 0.9546991130530716\n"
          ],
          "name": "stdout"
        }
      ]
    },
    {
      "cell_type": "code",
      "metadata": {
        "id": "EEt-WU8fFYFC",
        "colab_type": "code",
        "outputId": "d691db2a-772c-4cb4-ff61-d79008d698ba",
        "colab": {
          "base_uri": "https://localhost:8080/",
          "height": 164
        }
      },
      "source": [
        "torch.save(model, \"sbpr\")"
      ],
      "execution_count": 0,
      "outputs": [
        {
          "output_type": "error",
          "ename": "NameError",
          "evalue": "ignored",
          "traceback": [
            "\u001b[0;31m---------------------------------------------------------------------------\u001b[0m",
            "\u001b[0;31mNameError\u001b[0m                                 Traceback (most recent call last)",
            "\u001b[0;32m<ipython-input-1-3fe82ece06f9>\u001b[0m in \u001b[0;36m<module>\u001b[0;34m()\u001b[0m\n\u001b[0;32m----> 1\u001b[0;31m \u001b[0mtorch\u001b[0m\u001b[0;34m.\u001b[0m\u001b[0msave\u001b[0m\u001b[0;34m(\u001b[0m\u001b[0mmodel\u001b[0m\u001b[0;34m,\u001b[0m \u001b[0;34m\"sbpr\"\u001b[0m\u001b[0;34m)\u001b[0m\u001b[0;34m\u001b[0m\u001b[0;34m\u001b[0m\u001b[0m\n\u001b[0m",
            "\u001b[0;31mNameError\u001b[0m: name 'torch' is not defined"
          ]
        }
      ]
    },
    {
      "cell_type": "code",
      "metadata": {
        "id": "-cwQqMcsv-UI",
        "colab_type": "code",
        "outputId": "d2c66619-edad-4d24-c9f6-8c93c8055102",
        "colab": {
          "base_uri": "https://localhost:8080/",
          "height": 34
        }
      },
      "source": [
        "a = torch.tensor([1,2,3])\n",
        "b = torch.tensor([0,1,1])\n",
        "torch.sum(a>b)"
      ],
      "execution_count": 0,
      "outputs": [
        {
          "output_type": "execute_result",
          "data": {
            "text/plain": [
              "tensor(3)"
            ]
          },
          "metadata": {
            "tags": []
          },
          "execution_count": 10
        }
      ]
    },
    {
      "cell_type": "code",
      "metadata": {
        "id": "lcPGVsQFyhZw",
        "colab_type": "code",
        "colab": {}
      },
      "source": [
        ""
      ],
      "execution_count": 0,
      "outputs": []
    }
  ]
}